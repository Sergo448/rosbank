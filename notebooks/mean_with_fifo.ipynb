{
 "cells": [
  {
   "cell_type": "code",
   "execution_count": 1,
   "id": "3cb6334e",
   "metadata": {},
   "outputs": [],
   "source": [
    "import pandas as pd\n",
    "import numpy as np"
   ]
  },
  {
   "cell_type": "code",
   "execution_count": 2,
   "id": "2edde86b",
   "metadata": {},
   "outputs": [],
   "source": [
    "# path to csv's files\n",
    "path_to_history_prices = '..//csv_s//history_prices.csv'\n",
    "path_to_investment_currencyhistory = '..//csv_s//investment_currencyhistory.csv'\n",
    "path_to_securities = '..//csv_s//securities.csv'\n",
    "path_to_сlients = '..//csv_s//history_prices.csv'\n",
    "\n",
    "# read files\n",
    "history_prices = pd.read_csv(path_to_history_prices)\n",
    "investment_currencyhistory = pd.read_csv(path_to_investment_currencyhistory) \n",
    "securities = pd.read_csv(path_to_securities) \n",
    "сlients = pd.read_csv(path_to_сlients)\n",
    "\n",
    "# drop column\n",
    "history_prices = history_prices.drop(columns=['Unnamed: 0'])\n",
    "investment_currencyhistory = investment_currencyhistory.drop(columns=['Unnamed: 0'])\n",
    "securities = securities.drop(columns=['Unnamed: 0'])\n",
    "securities['client_date'] = pd.to_datetime(securities['client_date'], format='%Y-%m-%d')\n",
    "\n",
    "сlients = сlients.drop(columns=['Unnamed: 0'])"
   ]
  },
  {
   "cell_type": "code",
   "execution_count": 3,
   "id": "456f6ce2",
   "metadata": {},
   "outputs": [],
   "source": [
    "def informer(dataframe):\n",
    "    \n",
    "    print(f'INFORMATION FOR DATAFRAME:')\n",
    "    print(dataframe.info())\n",
    "    print('---------------')\n",
    "\n",
    "    # Проверка на отсутствие каких-либо данных\n",
    "    print('pd.ISNULL().SUM()')\n",
    "    print(dataframe.isnull().sum())\n",
    "    print('---------------')\n",
    "\n",
    "    # Посчитаем количество уникальных гномов\n",
    "    print(f'Количество уникальных значений для каждой колонки:\\n'\n",
    "          f'{dataframe.nunique()}')\n",
    "    print('---------------')"
   ]
  },
  {
   "cell_type": "code",
   "execution_count": 4,
   "id": "27ee1841",
   "metadata": {},
   "outputs": [
    {
     "name": "stdout",
     "output_type": "stream",
     "text": [
      "INFORMATION FOR DATAFRAME:\n",
      "<class 'pandas.core.frame.DataFrame'>\n",
      "RangeIndex: 75 entries, 0 to 74\n",
      "Data columns (total 6 columns):\n",
      " #   Column         Non-Null Count  Dtype  \n",
      "---  ------         --------------  -----  \n",
      " 0   currency_id    75 non-null     int64  \n",
      " 1   currency       75 non-null     object \n",
      " 2   direct_quote   75 non-null     float64\n",
      " 3   reverse_quote  75 non-null     float64\n",
      " 4   cross_course   75 non-null     float64\n",
      " 5   date_          75 non-null     object \n",
      "dtypes: float64(3), int64(1), object(2)\n",
      "memory usage: 3.6+ KB\n",
      "None\n",
      "---------------\n",
      "pd.ISNULL().SUM()\n",
      "currency_id      0\n",
      "currency         0\n",
      "direct_quote     0\n",
      "reverse_quote    0\n",
      "cross_course     0\n",
      "date_            0\n",
      "dtype: int64\n",
      "---------------\n",
      "Количество уникальных значений для каждой колонки:\n",
      "currency_id      75\n",
      "currency          7\n",
      "direct_quote     75\n",
      "reverse_quote    75\n",
      "cross_course     75\n",
      "date_            45\n",
      "dtype: int64\n",
      "---------------\n"
     ]
    }
   ],
   "source": [
    "# HISTORY_PRICES\n",
    "informer(dataframe=history_prices)"
   ]
  },
  {
   "cell_type": "code",
   "execution_count": 5,
   "id": "a31e010d",
   "metadata": {},
   "outputs": [
    {
     "name": "stdout",
     "output_type": "stream",
     "text": [
      "INFORMATION FOR DATAFRAME:\n",
      "<class 'pandas.core.frame.DataFrame'>\n",
      "RangeIndex: 53 entries, 0 to 52\n",
      "Data columns (total 6 columns):\n",
      " #   Column         Non-Null Count  Dtype  \n",
      "---  ------         --------------  -----  \n",
      " 0   currency_id    53 non-null     int64  \n",
      " 1   currency       53 non-null     object \n",
      " 2   direct_quote   53 non-null     float64\n",
      " 3   reverse_quote  53 non-null     float64\n",
      " 4   cross_course   53 non-null     float64\n",
      " 5   quote_date     53 non-null     object \n",
      "dtypes: float64(3), int64(1), object(2)\n",
      "memory usage: 2.6+ KB\n",
      "None\n",
      "---------------\n",
      "pd.ISNULL().SUM()\n",
      "currency_id      0\n",
      "currency         0\n",
      "direct_quote     0\n",
      "reverse_quote    0\n",
      "cross_course     0\n",
      "quote_date       0\n",
      "dtype: int64\n",
      "---------------\n",
      "Количество уникальных значений для каждой колонки:\n",
      "currency_id      53\n",
      "currency          3\n",
      "direct_quote     53\n",
      "reverse_quote    53\n",
      "cross_course     53\n",
      "quote_date       53\n",
      "dtype: int64\n",
      "---------------\n"
     ]
    }
   ],
   "source": [
    "# INVESTMENT_CURRENCYHISTORY\n",
    "informer(dataframe=investment_currencyhistory)"
   ]
  },
  {
   "cell_type": "code",
   "execution_count": 6,
   "id": "6032ac09",
   "metadata": {},
   "outputs": [
    {
     "name": "stdout",
     "output_type": "stream",
     "text": [
      "INFORMATION FOR DATAFRAME:\n",
      "<class 'pandas.core.frame.DataFrame'>\n",
      "RangeIndex: 156 entries, 0 to 155\n",
      "Data columns (total 8 columns):\n",
      " #   Column                Non-Null Count  Dtype                                \n",
      "---  ------                --------------  -----                                \n",
      " 0   operation_id          156 non-null    int64                                \n",
      " 1   client_id             156 non-null    int64                                \n",
      " 2   client_date           156 non-null    datetime64[ns, pytz.FixedOffset(180)]\n",
      " 3   client_isin_paper     156 non-null    object                               \n",
      " 4   client_n_papers       156 non-null    int64                                \n",
      " 5   client_currency       156 non-null    object                               \n",
      " 6   client_rialto         156 non-null    object                               \n",
      " 7   client_closing_price  156 non-null    int64                                \n",
      "dtypes: datetime64[ns, pytz.FixedOffset(180)](1), int64(4), object(3)\n",
      "memory usage: 9.9+ KB\n",
      "None\n",
      "---------------\n",
      "pd.ISNULL().SUM()\n",
      "operation_id            0\n",
      "client_id               0\n",
      "client_date             0\n",
      "client_isin_paper       0\n",
      "client_n_papers         0\n",
      "client_currency         0\n",
      "client_rialto           0\n",
      "client_closing_price    0\n",
      "dtype: int64\n",
      "---------------\n",
      "Количество уникальных значений для каждой колонки:\n",
      "operation_id            156\n",
      "client_id                10\n",
      "client_date             156\n",
      "client_isin_paper        13\n",
      "client_n_papers         130\n",
      "client_currency           4\n",
      "client_rialto             6\n",
      "client_closing_price    156\n",
      "dtype: int64\n",
      "---------------\n"
     ]
    }
   ],
   "source": [
    "# SECURITIES\n",
    "informer(dataframe=securities)"
   ]
  },
  {
   "cell_type": "code",
   "execution_count": 7,
   "id": "05f5fcb4",
   "metadata": {},
   "outputs": [
    {
     "name": "stdout",
     "output_type": "stream",
     "text": [
      "INFORMATION FOR DATAFRAME:\n",
      "<class 'pandas.core.frame.DataFrame'>\n",
      "RangeIndex: 75 entries, 0 to 74\n",
      "Data columns (total 6 columns):\n",
      " #   Column         Non-Null Count  Dtype  \n",
      "---  ------         --------------  -----  \n",
      " 0   currency_id    75 non-null     int64  \n",
      " 1   currency       75 non-null     object \n",
      " 2   direct_quote   75 non-null     float64\n",
      " 3   reverse_quote  75 non-null     float64\n",
      " 4   cross_course   75 non-null     float64\n",
      " 5   date_          75 non-null     object \n",
      "dtypes: float64(3), int64(1), object(2)\n",
      "memory usage: 3.6+ KB\n",
      "None\n",
      "---------------\n",
      "pd.ISNULL().SUM()\n",
      "currency_id      0\n",
      "currency         0\n",
      "direct_quote     0\n",
      "reverse_quote    0\n",
      "cross_course     0\n",
      "date_            0\n",
      "dtype: int64\n",
      "---------------\n",
      "Количество уникальных значений для каждой колонки:\n",
      "currency_id      75\n",
      "currency          7\n",
      "direct_quote     75\n",
      "reverse_quote    75\n",
      "cross_course     75\n",
      "date_            45\n",
      "dtype: int64\n",
      "---------------\n"
     ]
    }
   ],
   "source": [
    "# CLIENTS\n",
    "informer(dataframe=сlients)"
   ]
  },
  {
   "cell_type": "code",
   "execution_count": 8,
   "id": "e78a80bd",
   "metadata": {},
   "outputs": [],
   "source": [
    "currensy_history_for_mean = investment_currencyhistory.copy()\n",
    "\n",
    "currensy_history_for_mean = currensy_history_for_mean.drop(columns=['currency_id'])\n",
    "currensy_history_for_mean = currensy_history_for_mean.sort_values(by=['currency', 'quote_date'])"
   ]
  },
  {
   "cell_type": "code",
   "execution_count": 9,
   "id": "17caad49",
   "metadata": {},
   "outputs": [],
   "source": [
    "\"\"\"\n",
    "    3. Рассчитать среднюю цену покупки для каждой бумаги.\n",
    "        a. методом FIFO\n",
    "        b. метод средневзвешенной стоимости\n",
    "        \n",
    "        \n",
    "Для метода FIFO нам надо знать номер бумаги (ISIN), дату ее последней цены на рынке и количество.\n",
    "\n",
    "Метод FIFO заключается в \"first in first out\"\n",
    "\n",
    "\n",
    "\n",
    "Метод средневзвешенной стоимости (Weighted avеrage cost method) — порядок, при котором стоимость\n",
    "каждого изделия определяется по средневзвешенной стоимости аналогичных изделий,\n",
    "имеющихся в наличии на начало периода и приобретенных или произведенных в течение периода.\n",
    "Средневзвешенная стоимость может рассчитываться на периодической основе или, \n",
    "в зависимости от конкретных условий, по получении каждой дополнительной поставки.\n",
    "\"\"\";\n",
    "\n",
    "\n",
    "securities = securities.sort_values(by=['client_isin_paper', 'client_date'])\n",
    "\n",
    "# Для начала посчитаем методом FIFO\n",
    "FIFO_table = pd.DataFrame()\n",
    "FIFO_table['ISIN'] = securities['client_isin_paper']\n",
    "FIFO_table['DATE'] = securities['client_date'].dt.strftime('%Y-%m-%d')\n",
    "FIFO_table['AMOUNT'] = securities['client_n_papers']\n",
    "FIFO_table['CURRENCY'] = securities['client_currency']\n",
    "FIFO_table['COST'] = securities['client_closing_price']"
   ]
  },
  {
   "cell_type": "code",
   "execution_count": 10,
   "id": "c2e29c81",
   "metadata": {},
   "outputs": [],
   "source": [
    "currency_info = pd.DataFrame()\n",
    "currency_info['CURRENCY'] =  investment_currencyhistory['currency']\n",
    "\n",
    "investment_currencyhistory['quote_date'] = pd.to_datetime(investment_currencyhistory['quote_date'],\n",
    "                                                          format='%Y-%m-%d')\n",
    "currency_info['DATE'] = investment_currencyhistory['quote_date'].dt.strftime('%Y-%m-%d')\n",
    "currency_info['inUSD_DIR'] = investment_currencyhistory['direct_quote']\n",
    "currency_info = currency_info.sort_values(by=['CURRENCY', 'DATE']).reset_index(drop=True, inplace=False)\n",
    "# Для удобства переведем все в 1 валюту. Пусть это будут доллары"
   ]
  },
  {
   "cell_type": "code",
   "execution_count": 11,
   "id": "8996ab6f",
   "metadata": {},
   "outputs": [],
   "source": [
    "# Поработаем с FIFO_TABLE\n",
    "# ВЫЧИСЛИМ средневзвешенное значение акции в валюте той таблицы\n",
    "FIFO_table['MEAN_DAILY'] = (FIFO_table['COST'] / FIFO_table['AMOUNT']).round(2)\n",
    "FIFO_table = FIFO_table.reset_index(drop=True, inplace=False)"
   ]
  },
  {
   "cell_type": "code",
   "execution_count": 12,
   "id": "26b31856",
   "metadata": {},
   "outputs": [],
   "source": [
    "# Теперь нам надо получить ближайшую дату к данной и взять отуда значене валюты\n",
    "# Если значение в долларах, то переводить не надо.\n",
    "# Если значение в другой валюте, то переводим в доллары  \n",
    "FIFO_LIST = FIFO_table.values.tolist()"
   ]
  },
  {
   "cell_type": "code",
   "execution_count": 13,
   "id": "23d7fe94",
   "metadata": {},
   "outputs": [],
   "source": [
    "CURRENCY_LIST = currency_info.values.tolist()"
   ]
  },
  {
   "cell_type": "code",
   "execution_count": 14,
   "id": "2917b42c",
   "metadata": {},
   "outputs": [
    {
     "data": {
      "text/plain": [
       "array(['AUD/USD', 'EUR/USD', 'RUB/USD'], dtype=object)"
      ]
     },
     "execution_count": 14,
     "metadata": {},
     "output_type": "execute_result"
    }
   ],
   "source": [
    "# Допустим, что клиенты решили продать все свои бумаги,\n",
    "# тогда по методу FIFO необходимо начать продавать их самого конца их входжнения в портфель.\n",
    "# Для этого, мы должны вначале найти цену по которой торгуется вся валюта в долларах,\n",
    "# доллары переводить не будем, их коэффициент будет = 1, \n",
    "# все остальный надо будет искать в всоответствии currency/USD. \n",
    "# Затем мы переводим всю валюту в одну, и начинаем с конца списка продавать \n",
    "# (в данном примере складывать) и потом делить на количество. \n",
    "# Тогда мы найдем среднюю цену бумаги методом FIFO.\n",
    "\n",
    "\n",
    "# У нас есть 2 датасета. В одном есть цены по которым торгуются бумаги. Оттуда мы будем брать актуальный курс.\n",
    "# В другом датасете у нас сами бумаги, их количество и даты покупки.\n",
    "\n",
    "# Найдем все уникальный курсы\n",
    "currency_unique_с = currency_info['CURRENCY'].unique()\n",
    "currency_unique_с"
   ]
  },
  {
   "cell_type": "code",
   "execution_count": 15,
   "id": "bbf514aa",
   "metadata": {},
   "outputs": [
    {
     "name": "stdout",
     "output_type": "stream",
     "text": [
      "currency_unique_d_AUDUSD: 2023-03-21\n",
      "currency_unique_d_EURUSD: 2023-03-26\n",
      "currency_unique_d_RUBUSD: 2023-03-16\n"
     ]
    }
   ],
   "source": [
    "# Нашли. Теперь для каждого курса надо найти последнюю дату и сам курс.\n",
    "currency_unique_d_AUDUSD = currency_info[(currency_info['CURRENCY'] == 'AUD/USD')].DATE.max()\n",
    "currency_unique_d_EURUSD = currency_info[(currency_info['CURRENCY'] == 'EUR/USD')].DATE.max()\n",
    "currency_unique_d_RUBUSD = currency_info[(currency_info['CURRENCY'] == 'RUB/USD')].DATE.max()\n",
    "\n",
    "print(f'currency_unique_d_AUDUSD: {currency_unique_d_AUDUSD}\\n'\n",
    "      f'currency_unique_d_EURUSD: {currency_unique_d_EURUSD}\\n'\n",
    "      f'currency_unique_d_RUBUSD: {currency_unique_d_RUBUSD}')"
   ]
  },
  {
   "cell_type": "code",
   "execution_count": 16,
   "id": "53c71a2f",
   "metadata": {},
   "outputs": [],
   "source": [
    "currency_unique_c_AUDUSD = currency_info[(currency_info['DATE'] == currency_unique_d_AUDUSD)].inUSD_DIR.item()\n",
    "currency_unique_c_EURUSD = currency_info[(currency_info['DATE'] == currency_unique_d_EURUSD)].inUSD_DIR.item()\n",
    "\n",
    "n = currency_info[(currency_info['DATE'] == currency_unique_d_RUBUSD)]['inUSD_DIR'].index.max()\n",
    "currency_unique_c_RUBUSD = currency_info[(currency_info['inUSD_DIR'].index == n)].inUSD_DIR.item()"
   ]
  },
  {
   "cell_type": "code",
   "execution_count": 17,
   "id": "dd1c47fc",
   "metadata": {},
   "outputs": [
    {
     "name": "stdout",
     "output_type": "stream",
     "text": [
      "currency_unique_c_AUDUSD: 18.428904\n",
      "currency_unique_c_EURUSD: 38.735123\n",
      "currency_unique_c_RUBUSD: 37.252357\n"
     ]
    }
   ],
   "source": [
    "# Получили курс.\n",
    "# Теперь можно перевести все цены\n",
    "\n",
    "print(f'currency_unique_c_AUDUSD: {currency_unique_c_AUDUSD}\\n'\n",
    "      f'currency_unique_c_EURUSD: {currency_unique_c_EURUSD}\\n'\n",
    "      f'currency_unique_c_RUBUSD: {currency_unique_c_RUBUSD}')"
   ]
  },
  {
   "cell_type": "code",
   "execution_count": 18,
   "id": "a0734ca3",
   "metadata": {},
   "outputs": [],
   "source": [
    "FIFO_R = pd.DataFrame()\n",
    "FIFO_A = pd.DataFrame()\n",
    "FIFO_U = pd.DataFrame()\n",
    "FIFO_E = pd.DataFrame()\n",
    "\n",
    "FIFO_R['RUB_USD'] = FIFO_table[FIFO_table['CURRENCY'] == 'RUB']['MEAN_DAILY']\n",
    "FIFO_A['AUD_USD'] = FIFO_table[FIFO_table['CURRENCY'] == 'AUD']['MEAN_DAILY']\n",
    "FIFO_U['USD_USD'] = FIFO_table[FIFO_table['CURRENCY'] == 'USD']['MEAN_DAILY']\n",
    "FIFO_E['EUR_USD'] = FIFO_table[FIFO_table['CURRENCY'] == 'EUR']['MEAN_DAILY']\n",
    "\n",
    "FIFO_R['RUB_USD'] = FIFO_table[(FIFO_table['CURRENCY'] == 'RUB')]['MEAN_DAILY'] * currency_unique_c_RUBUSD\n",
    "FIFO_A['AUD_USD'] = FIFO_table[(FIFO_table['CURRENCY'] == 'AUD')]['MEAN_DAILY'] * currency_unique_c_AUDUSD\n",
    "FIFO_U['USD_USD'] = FIFO_table[(FIFO_table['CURRENCY'] == 'USD')]['MEAN_DAILY'] * 1\n",
    "FIFO_E['EUR_USD'] = FIFO_table[(FIFO_table['CURRENCY'] == 'EUR')]['MEAN_DAILY'] * currency_unique_c_EURUSD\n",
    "\n",
    "FIFO_table['UE_USD'] = pd.concat([FIFO_R['RUB_USD'], FIFO_A['AUD_USD'],\n",
    "                                  FIFO_E['EUR_USD'], FIFO_U['USD_USD']],\n",
    "                                 ignore_index=True)"
   ]
  },
  {
   "cell_type": "code",
   "execution_count": 19,
   "id": "831df83f",
   "metadata": {},
   "outputs": [
    {
     "name": "stdout",
     "output_type": "stream",
     "text": [
      "Количество различных бумаг: 13\n"
     ]
    }
   ],
   "source": [
    "n_isins = FIFO_table['ISIN'].nunique()\n",
    "print(f'Количество различных бумаг: {n_isins}')\n",
    "FIFO_list = FIFO_table.values.tolist()"
   ]
  },
  {
   "cell_type": "code",
   "execution_count": 20,
   "id": "818d4225",
   "metadata": {},
   "outputs": [],
   "source": [
    "means = []\n",
    "buf = []\n",
    "for i in range(len(FIFO_list)):\n",
    "\n",
    "    try: \n",
    "        if FIFO_list[i][0] == FIFO_list[i+1][0]:\n",
    "            buf.append(FIFO_list[i][6])\n",
    "        else:\n",
    "            buf.append(FIFO_list[i][6])\n",
    "            mean = np.mean(buf)\n",
    "            means.append(mean)\n",
    "            buf = []\n",
    "    except IndexError:\n",
    "        buf.append(FIFO_list[i][6])\n",
    "        mean = np.mean(buf)\n",
    "        means.append(mean)\n",
    "        buf = []     "
   ]
  },
  {
   "cell_type": "code",
   "execution_count": 21,
   "id": "fe0adc83",
   "metadata": {},
   "outputs": [],
   "source": [
    "# Получили данные. Теперь можно найти среднее для каждой бумаги\n",
    "ISIN_MEAN = pd.DataFrame()\n",
    "\n",
    "ISIN_MEAN['ISIN'] = FIFO_table['ISIN'].unique()\n",
    "ISIN_MEAN['MEAN_WITH_FIFO'] = pd.Series(means).round(2)\n",
    "ISIN_MEAN['IN_CURRENCY'] = 'USD'"
   ]
  },
  {
   "cell_type": "code",
   "execution_count": 22,
   "id": "6de51c46",
   "metadata": {},
   "outputs": [
    {
     "data": {
      "text/html": [
       "<div>\n",
       "<style scoped>\n",
       "    .dataframe tbody tr th:only-of-type {\n",
       "        vertical-align: middle;\n",
       "    }\n",
       "\n",
       "    .dataframe tbody tr th {\n",
       "        vertical-align: top;\n",
       "    }\n",
       "\n",
       "    .dataframe thead th {\n",
       "        text-align: right;\n",
       "    }\n",
       "</style>\n",
       "<table border=\"1\" class=\"dataframe\">\n",
       "  <thead>\n",
       "    <tr style=\"text-align: right;\">\n",
       "      <th></th>\n",
       "      <th>ISIN</th>\n",
       "      <th>MEAN_WITH_FIFO</th>\n",
       "      <th>IN_CURRENCY</th>\n",
       "    </tr>\n",
       "  </thead>\n",
       "  <tbody>\n",
       "    <tr>\n",
       "      <th>0</th>\n",
       "      <td>11dd</td>\n",
       "      <td>59784.32</td>\n",
       "      <td>USD</td>\n",
       "    </tr>\n",
       "    <tr>\n",
       "      <th>1</th>\n",
       "      <td>3kj3j3</td>\n",
       "      <td>47096.84</td>\n",
       "      <td>USD</td>\n",
       "    </tr>\n",
       "    <tr>\n",
       "      <th>2</th>\n",
       "      <td>5673d</td>\n",
       "      <td>137509.44</td>\n",
       "      <td>USD</td>\n",
       "    </tr>\n",
       "    <tr>\n",
       "      <th>3</th>\n",
       "      <td>dcw12l1</td>\n",
       "      <td>58593.07</td>\n",
       "      <td>USD</td>\n",
       "    </tr>\n",
       "    <tr>\n",
       "      <th>4</th>\n",
       "      <td>defdjwkf3</td>\n",
       "      <td>28245.61</td>\n",
       "      <td>USD</td>\n",
       "    </tr>\n",
       "    <tr>\n",
       "      <th>5</th>\n",
       "      <td>dwwdsxw1</td>\n",
       "      <td>33050.38</td>\n",
       "      <td>USD</td>\n",
       "    </tr>\n",
       "    <tr>\n",
       "      <th>6</th>\n",
       "      <td>f3bfic3</td>\n",
       "      <td>106217.11</td>\n",
       "      <td>USD</td>\n",
       "    </tr>\n",
       "    <tr>\n",
       "      <th>7</th>\n",
       "      <td>fdsfaw</td>\n",
       "      <td>51277.50</td>\n",
       "      <td>USD</td>\n",
       "    </tr>\n",
       "    <tr>\n",
       "      <th>8</th>\n",
       "      <td>fjdh22</td>\n",
       "      <td>49454.89</td>\n",
       "      <td>USD</td>\n",
       "    </tr>\n",
       "    <tr>\n",
       "      <th>9</th>\n",
       "      <td>fjwj4nfu4</td>\n",
       "      <td>78461.71</td>\n",
       "      <td>USD</td>\n",
       "    </tr>\n",
       "    <tr>\n",
       "      <th>10</th>\n",
       "      <td>fmdkwm1e1</td>\n",
       "      <td>1637.06</td>\n",
       "      <td>USD</td>\n",
       "    </tr>\n",
       "    <tr>\n",
       "      <th>11</th>\n",
       "      <td>gdhf72</td>\n",
       "      <td>1174.86</td>\n",
       "      <td>USD</td>\n",
       "    </tr>\n",
       "    <tr>\n",
       "      <th>12</th>\n",
       "      <td>ldoddd3</td>\n",
       "      <td>2908.54</td>\n",
       "      <td>USD</td>\n",
       "    </tr>\n",
       "  </tbody>\n",
       "</table>\n",
       "</div>"
      ],
      "text/plain": [
       "         ISIN  MEAN_WITH_FIFO IN_CURRENCY\n",
       "0        11dd        59784.32         USD\n",
       "1      3kj3j3        47096.84         USD\n",
       "2       5673d       137509.44         USD\n",
       "3     dcw12l1        58593.07         USD\n",
       "4   defdjwkf3        28245.61         USD\n",
       "5    dwwdsxw1        33050.38         USD\n",
       "6     f3bfic3       106217.11         USD\n",
       "7      fdsfaw        51277.50         USD\n",
       "8      fjdh22        49454.89         USD\n",
       "9   fjwj4nfu4        78461.71         USD\n",
       "10  fmdkwm1e1         1637.06         USD\n",
       "11     gdhf72         1174.86         USD\n",
       "12    ldoddd3         2908.54         USD"
      ]
     },
     "execution_count": 22,
     "metadata": {},
     "output_type": "execute_result"
    }
   ],
   "source": [
    "ISIN_MEAN "
   ]
  },
  {
   "cell_type": "markdown",
   "id": "eb8094ab",
   "metadata": {},
   "source": [
    "## Таким образом мы получили среднее методом FIFO"
   ]
  },
  {
   "cell_type": "markdown",
   "id": "97e9ba9c",
   "metadata": {},
   "source": [
    "Конечно, мы принебрегли некоторыми вещами (но в целом, мы соблюли правила этого метода), но при масштабировании и взятии за основу функций из этого ноутбука, можно улучшить и упросить этот код."
   ]
  },
  {
   "cell_type": "code",
   "execution_count": null,
   "id": "c01532a8",
   "metadata": {},
   "outputs": [],
   "source": []
  }
 ],
 "metadata": {
  "kernelspec": {
   "display_name": "Python 3 (ipykernel)",
   "language": "python",
   "name": "python3"
  },
  "language_info": {
   "codemirror_mode": {
    "name": "ipython",
    "version": 3
   },
   "file_extension": ".py",
   "mimetype": "text/x-python",
   "name": "python",
   "nbconvert_exporter": "python",
   "pygments_lexer": "ipython3",
   "version": "3.10.6"
  }
 },
 "nbformat": 4,
 "nbformat_minor": 5
}
